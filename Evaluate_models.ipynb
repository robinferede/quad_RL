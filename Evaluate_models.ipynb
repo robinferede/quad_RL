{
 "cells": [
  {
   "cell_type": "markdown",
   "metadata": {},
   "source": [
    "# Get training logs"
   ]
  },
  {
   "cell_type": "code",
   "execution_count": 9,
   "metadata": {},
   "outputs": [],
   "source": [
    "import os\n",
    "import numpy as np\n",
    "from tensorboard.backend.event_processing.event_accumulator import EventAccumulator\n",
    "import matplotlib.pyplot as plt\n",
    "\n",
    "def get_log(log_dir):\n",
    "    event_acc = EventAccumulator(log_dir)\n",
    "    event_acc.Reload()\n",
    "    tags = event_acc.Tags()['scalars']\n",
    "    \n",
    "    # print(tags)\n",
    "    # raise Exception('stop')\n",
    "    log = {'step': [], 'ep_rew_mean': []}\n",
    "    \n",
    "    for scalar_event in event_acc.Scalars('rollout/ep_rew_mean'):\n",
    "        log['step'].append(scalar_event.step)\n",
    "        log['ep_rew_mean'].append(scalar_event.value)\n",
    "        \n",
    "    log = {key: np.array(values) for key, values in log.items()}\n",
    "    # sub sample in steps of 1e6\n",
    "    indices = log['step'] % 1e6 == 0\n",
    "    log = {key: values[indices] for key, values in log.items()}\n",
    "    # get the highest value and corresponding step\n",
    "    max_index = np.argmax(log['ep_rew_mean'])\n",
    "    log['max_ep_rew_mean'] = log['ep_rew_mean'][max_index]\n",
    "    log['max_step'] = log['step'][max_index]\n",
    "    return log\n",
    "\n",
    "def reward_plot(log_dir, **kwargs):\n",
    "    log = get_log(log_dir)\n",
    "    plt.plot(log['step'], log['ep_rew_mean'], **kwargs)\n",
    "    plt.scatter(log['max_step'], log['max_ep_rew_mean'], **kwargs)\n",
    "    \n",
    "def get_best_model(log_dir):\n",
    "    log = get_log(log_dir)\n",
    "    print('highest reward:', log['max_ep_rew_mean'], 'at step:', log['max_step'])\n",
    "    model_dir = log_dir\n",
    "    model_dir = model_dir.replace('logs', 'models')\n",
    "    model_dir = model_dir[:-2]\n",
    "    path_best_model = model_dir + f'/{log[\"max_step\"]}.zip'\n",
    "    print('best model:', path_best_model)\n",
    "    return path_best_model"
   ]
  },
  {
   "cell_type": "markdown",
   "metadata": {},
   "source": [
    "# Boxplots of the mean episode reward of all training runs"
   ]
  },
  {
   "cell_type": "code",
   "execution_count": 29,
   "metadata": {},
   "outputs": [
    {
     "name": "stderr",
     "output_type": "stream",
     "text": [
      "/tmp/ipykernel_1231473/2532323473.py:78: UserWarning: FigureCanvasAgg is non-interactive, and thus cannot be shown\n",
      "  fig.show()\n"
     ]
    },
    {
     "data": {
      "image/png": "[encoded data removed]",
      "text/plain": [
       "<Figure size 500x500 with 1 Axes>"
      ]
     },
     "metadata": {},
     "output_type": "display_data"
    }
   ],
   "source": [
    "# box plots of the best models\n",
    "fig, ax = plt.subplots(1,1, figsize=(5,5))\n",
    "\n",
    "# no action hist\n",
    "log1 = get_log('logs/nn_size_comparison/run0_64_64_64_0')\n",
    "log2 = get_log('logs/nn_size_comparison/run1_64_64_64_0')\n",
    "log3 = get_log('logs/nn_size_comparison/run2_64_64_64_0')\n",
    "rew = [log1['max_ep_rew_mean'], log2['max_ep_rew_mean'], log3['max_ep_rew_mean']]\n",
    "ax.boxplot(rew, positions=[0], widths=0.4)\n",
    "ax.scatter([0]*3, rew, color='k')\n",
    "# action hist 1\n",
    "log1 = get_log('logs/input_comparison/run0_action_history1_0')\n",
    "log2 = get_log('logs/input_comparison/run1_action_history1_0')\n",
    "log3 = get_log('logs/input_comparison/run2_action_history1_0')\n",
    "rew = [log1['max_ep_rew_mean'], log2['max_ep_rew_mean'], log3['max_ep_rew_mean']]\n",
    "ax.boxplot(rew, positions=[1], widths=0.4)\n",
    "ax.scatter([1]*3, rew, color='k')\n",
    "# action hist 2\n",
    "log1 = get_log('logs/input_comparison/run0_action_history2_0')\n",
    "log2 = get_log('logs/input_comparison/run1_action_history2_0')\n",
    "log3 = get_log('logs/input_comparison/run2_action_history2_0')\n",
    "rew = [log1['max_ep_rew_mean'], log2['max_ep_rew_mean'], log3['max_ep_rew_mean']]\n",
    "ax.boxplot(rew, positions=[2], widths=0.4)\n",
    "ax.scatter([2]*3, rew, color='k')\n",
    "# action hist 3\n",
    "log1 = get_log('logs/input_comparison/run0_action_history3_0')\n",
    "log2 = get_log('logs/input_comparison/run1_action_history3_0')\n",
    "log3 = get_log('logs/input_comparison/run2_action_history3_0')\n",
    "rew = [log1['max_ep_rew_mean'], log2['max_ep_rew_mean'], log3['max_ep_rew_mean']]\n",
    "ax.boxplot(rew, positions=[3], widths=0.4)\n",
    "ax.scatter([3]*3, rew, color='k')\n",
    "# state hist 1\n",
    "log1 = get_log('logs/input_comparison/run0_state_history1_0')\n",
    "log2 = get_log('logs/input_comparison/run1_state_history1_0')\n",
    "log3 = get_log('logs/input_comparison/run2_state_history1_0')\n",
    "rew = [log1['max_ep_rew_mean'], log2['max_ep_rew_mean'], log3['max_ep_rew_mean']]\n",
    "ax.boxplot(rew, positions=[4], widths=0.4)\n",
    "ax.scatter([4]*3, rew, color='k')\n",
    "# state hist 2\n",
    "log1 = get_log('logs/input_comparison/run0_state_history2_0')\n",
    "log2 = get_log('logs/input_comparison/run1_state_history2_0')\n",
    "log3 = get_log('logs/input_comparison/run2_state_history2_0')\n",
    "rew = [log1['max_ep_rew_mean'], log2['max_ep_rew_mean'], log3['max_ep_rew_mean']]\n",
    "ax.boxplot(rew, positions=[5], widths=0.4)\n",
    "ax.scatter([5]*3, rew, color='k')\n",
    "# state hist 3\n",
    "log1 = get_log('logs/input_comparison/run0_state_history3_0')\n",
    "log2 = get_log('logs/input_comparison/run1_state_history3_0')\n",
    "log3 = get_log('logs/input_comparison/run2_state_history3_0')\n",
    "rew = [log1['max_ep_rew_mean'], log2['max_ep_rew_mean'], log3['max_ep_rew_mean']]\n",
    "ax.boxplot(rew, positions=[6], widths=0.4)\n",
    "ax.scatter([6]*3, rew, color='k')\n",
    "# param input noise=0.0\n",
    "log1 = get_log('logs/input_comparison/run0_param_input_noise=00_0')\n",
    "log2 = get_log('logs/input_comparison/run1_param_input_noise=00_0')\n",
    "log3 = get_log('logs/input_comparison/run2_param_input_noise=00_0')\n",
    "rew = [log1['max_ep_rew_mean'], log2['max_ep_rew_mean'], log3['max_ep_rew_mean']]\n",
    "ax.boxplot(rew, positions=[7], widths=0.4)\n",
    "ax.scatter([7]*3, rew, color='k')\n",
    "# param input noise=0.1\n",
    "log1 = get_log('logs/input_comparison/run0_param_input_noise=01_0')\n",
    "log2 = get_log('logs/input_comparison/run1_param_input_noise=01_0')\n",
    "log3 = get_log('logs/input_comparison/run2_param_input_noise=01_0')\n",
    "rew = [log1['max_ep_rew_mean'], log2['max_ep_rew_mean'], log3['max_ep_rew_mean']]\n",
    "ax.boxplot(rew, positions=[8], widths=0.4)\n",
    "ax.scatter([8]*3, rew, color='k')\n",
    "# param input noise=0.2\n",
    "log1 = get_log('logs/input_comparison/run0_param_input_noise=02_0')\n",
    "log2 = get_log('logs/input_comparison/run1_param_input_noise=02_0')\n",
    "log3 = get_log('logs/input_comparison/run2_param_input_noise=02_0')\n",
    "rew = [log1['max_ep_rew_mean'], log2['max_ep_rew_mean'], log3['max_ep_rew_mean']]\n",
    "ax.boxplot(rew, positions=[9], widths=0.4)\n",
    "ax.scatter([9]*3, rew, color='k')\n",
    "\n",
    "ax.set_xticks(range(10))\n",
    "ax.set_xticklabels(['no_extra_input', 'action_hist1', 'action_hist2', 'action_hist3', 'state_hist1', 'state_hist2', 'state_hist3', 'param_input_noise=0.0', 'param_input_noise=0.1', 'param_input_noise=0.2'], rotation=90)\n",
    "ax.set_ylabel('mean episode reward')\n",
    "fig.show()"
   ]
  },
  {
   "cell_type": "markdown",
   "metadata": {},
   "source": [
    "# Simulate models"
   ]
  },
  {
   "cell_type": "code",
   "execution_count": 27,
   "metadata": {},
   "outputs": [],
   "source": [
    "from quad_race_env import *\n",
    "from randomization import *\n",
    "from stable_baselines3 import PPO\n",
    "from quadcopter_animation import animation\n",
    "\n",
    "#  ANIMATION FUNCTION\n",
    "def animate_policy(model, env, **kwargs):\n",
    "    env.reset()\n",
    "    def run():\n",
    "        actions, _ = model.predict(env.states)  \n",
    "        states, rewards, dones, infos = env.step(actions)  \n",
    "        return env.render()\n",
    "    animation.view(run, gate_pos=env.gate_pos, gate_yaw=env.gate_yaw, **kwargs)\n",
    "    \n",
    "def animate_policy_2(model1, model2, env1, env2, **kwargs):\n",
    "    env1.reset()\n",
    "    env2.reset()\n",
    "    def run():\n",
    "        actions1, _ = model1.predict(env1.states)\n",
    "        actions2, _ = model2.predict(env2.states)\n",
    "        \n",
    "        _, _, _, _ = env1.step(actions1)\n",
    "        _, _, _, _ = env2.step(actions2)\n",
    "        \n",
    "        out1 = env1.render()\n",
    "        # b, g, r\n",
    "        out1['color'] = [(255.,0.,0.)]*env1.num_envs\n",
    "        out2 = env2.render()\n",
    "        out2['color'] = [(0.,0.,255.)]*env2.num_envs\n",
    "        \n",
    "        out = {}\n",
    "        for key in out1.keys():\n",
    "            out[key] = np.concatenate([out1[key], out2[key]])\n",
    "        return out    \n",
    "    animation.view(run, gate_pos=env1.gate_pos, gate_yaw=env1.gate_yaw, **kwargs)\n",
    "    "
   ]
  },
  {
   "cell_type": "code",
   "execution_count": 28,
   "metadata": {},
   "outputs": [
    {
     "name": "stdout",
     "output_type": "stream",
     "text": [
      "highest reward: 100.88052368164062 at step: 85000000\n",
      "best model: models/fixed_5inch/run0_64_64_64/85000000.zip\n"
     ]
    },
    {
     "name": "stderr",
     "output_type": "stream",
     "text": [
      "/home/robin/miniconda3/envs/minimal/lib/python3.10/site-packages/stable_baselines3/common/vec_env/base_vec_env.py:77: UserWarning: The `render_mode` attribute is not defined in your environment. It will be set to None.\n",
      "  warnings.warn(\"The `render_mode` attribute is not defined in your environment. It will be set to None.\")\n"
     ]
    }
   ],
   "source": [
    "log_path = 'logs/nn_size_comparison/run1_64_64_64_0'\n",
    "log_path = 'logs/fixed_5inch/run0_64_64_64_0'\n",
    "\n",
    "model = PPO.load(get_best_model(log_path))\n",
    "\n",
    "env = Quadcopter3DGates(\n",
    "    num_envs=100,\n",
    "    gates_pos=gate_pos,\n",
    "    gate_yaw=gate_yaw,\n",
    "    start_pos=start_pos,\n",
    "    randomization=randomization_fixed_params_5inch,\n",
    "    gates_ahead=1,\n",
    "    initialize_at_random_gates=False,\n",
    "    pause_if_collision=True,\n",
    ")\n",
    "   \n",
    "animate_policy(model, env)"
   ]
  },
  {
   "cell_type": "code",
   "execution_count": 4,
   "metadata": {},
   "outputs": [
    {
     "name": "stdout",
     "output_type": "stream",
     "text": [
      "highest reward: 69.66938018798828 at step: 98000000\n",
      "best model: models/nn_size_comparison/run1_64_64_64/98000000.zip\n",
      "highest reward: 100.88052368164062 at step: 85000000\n",
      "best model: models/fixed_5inch/run0_64_64_64/85000000.zip\n"
     ]
    }
   ],
   "source": [
    "log_path1 = 'logs/nn_size_comparison/run1_64_64_64_0'\n",
    "log_path2 = 'logs/fixed_5inch/run0_64_64_64_0'\n",
    "\n",
    "model1 = PPO.load(get_best_model(log_path1))\n",
    "model2 = PPO.load(get_best_model(log_path2))\n",
    "\n",
    "randomization=randomization_fixed_params_5inch\n",
    "\n",
    "env1 = Quadcopter3DGates(\n",
    "    num_envs=1,\n",
    "    gates_pos=gate_pos,\n",
    "    gate_yaw=gate_yaw,\n",
    "    start_pos=start_pos,\n",
    "    randomization=randomization,\n",
    "    gates_ahead=1,\n",
    "    initialize_at_random_gates=False,\n",
    "    pause_if_collision=True,\n",
    ")\n",
    "env2 = Quadcopter3DGates(\n",
    "    num_envs=1,\n",
    "    gates_pos=gate_pos,\n",
    "    gate_yaw=gate_yaw,\n",
    "    start_pos=start_pos,\n",
    "    randomization=randomization,\n",
    "    gates_ahead=1,\n",
    "    initialize_at_random_gates=False,\n",
    "    pause_if_collision=True,\n",
    ")\n",
    "   \n",
    "animate_policy_2(model1, model2, env1, env2)"
   ]
  },
  {
   "cell_type": "code",
   "execution_count": null,
   "metadata": {},
   "outputs": [],
   "source": []
  }
 ],
 "metadata": {
  "kernelspec": {
   "display_name": "minimal",
   "language": "python",
   "name": "python3"
  },
  "language_info": {
   "codemirror_mode": {
    "name": "ipython",
    "version": 3
   },
   "file_extension": ".py",
   "mimetype": "text/x-python",
   "name": "python",
   "nbconvert_exporter": "python",
   "pygments_lexer": "ipython3",
   "version": "3.10.14"
  }
 },
 "nbformat": 4,
 "nbformat_minor": 2
}
